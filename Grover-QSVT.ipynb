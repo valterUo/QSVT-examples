{
 "cells": [
  {
   "cell_type": "markdown",
   "metadata": {},
   "source": [
    "# Grover's search algorithm using quantum singular value transformation 1\n",
    "\n",
    "This is the very concrete, somewhat unrealistic but pedagogically clearer implementation which relies on applying polynomial to the singular value encoded in the block encoding unitary.\n",
    "\n",
    "The work is based on paper [A Grand Unification of Quantum Algorithms](https://arxiv.org/abs/2105.02859).\n",
    "\n",
    "After all, the implementation failed because obtaining the concrete block encoding seems to be hard.\n",
    "\n",
    "1. Create block encoding of the single singular value $a = \\langle m | \\varphi_0 \\rangle$ (??)\n",
    "2. Apply the polynomial approximation of step function to the singular value (OK)\n",
    "3. Create the corresponding operator using `qml.QubitUnitary` and measure in computational basis "
   ]
  },
  {
   "cell_type": "code",
   "execution_count": 1,
   "metadata": {},
   "outputs": [],
   "source": [
    "import numpy as np\n",
    "import pennylane as qml\n",
    "\n",
    "system_qubits = 3\n",
    "ancilla_qubits = 0\n",
    "n_qubits = system_qubits + ancilla_qubits\n",
    "marked_elem = 5\n",
    "delta = 0.1\n",
    "epsilon = delta/2"
   ]
  },
  {
   "cell_type": "code",
   "execution_count": 2,
   "metadata": {},
   "outputs": [],
   "source": [
    "def grover_oracle(n_qubits, marked_elem):\n",
    "    oracle = np.eye(2**n_qubits)\n",
    "    oracle[marked_elem][marked_elem] = -1\n",
    "    return oracle"
   ]
  },
  {
   "cell_type": "markdown",
   "metadata": {},
   "source": [
    "1. Use QSVT to construct the operator $(P^{\\Theta}_{\\sigma/2, \\Delta})^{\\text{SV}}(V)$, where $V = I$ block encodes $a = 1/\\sqrt{N}$ in its $|m\\rangle \\langle\\psi_0|$.\n",
    "2. Apply $(P^{\\Theta}_{\\sigma/2, \\Delta})^{\\text{SV}}(V)$ to the uniform superposition. With high probability, $|m \\rangle$ remains in the register and can be determined by measuring in the computational basis."
   ]
  },
  {
   "cell_type": "markdown",
   "metadata": {},
   "source": []
  },
  {
   "cell_type": "code",
   "execution_count": 11,
   "metadata": {},
   "outputs": [
    {
     "name": "stdout",
     "output_type": "stream",
     "text": [
      "Degree:  10\n",
      "<class 'numpy.ndarray'>\n"
     ]
    },
    {
     "data": {
      "image/png": "[encoded data removed]",
      "text/plain": [
       "<Figure size 432x288 with 1 Axes>"
      ]
     },
     "metadata": {
      "needs_background": "light"
     },
     "output_type": "display_data"
    }
   ],
   "source": [
    "from scipy.special import erf\n",
    "from scipy.optimize import fmin\n",
    "import matplotlib.pyplot as plt\n",
    "import numpy as np\n",
    "\n",
    "from numpy.polynomial.chebyshev import chebinterpolate, chebval, chebtrim\n",
    "\n",
    "k = 7\n",
    "c = 0 #1/np.sqrt(2**n_qubits)\n",
    "mod_erf = lambda x : (1 - 2*epsilon)*erf(k*(x - c))\n",
    "x = np.linspace(-1.0, 1.0, num = 100)\n",
    "degree = np.ceil(np.sqrt(2**n_qubits)*np.log2(1/delta)).astype(int)\n",
    "print(\"Degree: \", degree)\n",
    "\n",
    "plt.plot(x, mod_erf(x), label=\"erf\")\n",
    "P = chebinterpolate(mod_erf, degree)\n",
    "#P = chebtrim(P, tol=1e-10)\n",
    "print(type(P))\n",
    "plt.plot(x, chebval(x, P), label=f\"degree={degree}\")\n",
    "plt.legend(bbox_to_anchor=(1.05, 1), loc='upper left', borderaxespad=0.0, shadow=True)\n",
    "plt.tight_layout()\n",
    "plt.axis([-1.2, 1.2, -1.2, 1.2])\n",
    "plt.show()"
   ]
  },
  {
   "cell_type": "markdown",
   "metadata": {},
   "source": [
    "#### Projectors"
   ]
  },
  {
   "cell_type": "code",
   "execution_count": 4,
   "metadata": {},
   "outputs": [],
   "source": [
    "N = 2**n_qubits\n",
    "a = 1 #1/np.sqrt(N)\n",
    "\n",
    "#uniform_superposition = np.zeros(2**n_qubits)\n",
    "#uniform_superposition[marked_elem] = 1/np.sqrt(2**n_qubits)\n",
    "uniform_superposition_orthogonal = np.ones(2**n_qubits)/np.sqrt(2**n_qubits)\n",
    "#uniform_superposition_orthogonal[marked_elem] = 0\n",
    "\n",
    "marked_element = np.zeros(2**n_qubits)\n",
    "marked_element[marked_elem] = 1\n",
    "marked_orthogonal = np.ones(2**n_qubits)\n",
    "marked_orthogonal[marked_elem] = 0\n",
    "\n",
    "uniform_superposition = np.ones(2**n_qubits)/np.sqrt(2**n_qubits)\n",
    "\n",
    "Pi = np.outer(marked_element, marked_element)\n",
    "Pi_prime = np.outer(uniform_superposition, uniform_superposition)\n",
    "V = np.identity(2**n_qubits)\n",
    "#V[marked_elem][marked_elem] = 1/np.sqrt(2**n_qubits)\n",
    "#print(V)\n",
    "#print()\n",
    "#block_encoding = Pi*Pi_prime\n",
    "#print(np.transpose(uniform_superposition)*Pi*uniform_superposition)\n",
    "\n",
    "# Pi*V*|phi_0> = a|m>\n",
    "#print(np.matmul(Pi*V, np.transpose(uniform_superposition)))\n",
    "\n",
    "# Pi*V*Pi = a|m><phi_0|\n",
    "#B = np.outer(marked_element, uniform_superposition)\n",
    "#C = Pi*V*Pi_prime\n",
    "#print(C)\n",
    "#block = np.matmul(uniform_superposition, Pi, uniform_superposition)\n",
    "block = mod_erf(np.matmul(Pi, Pi_prime))"
   ]
  },
  {
   "cell_type": "code",
   "execution_count": 5,
   "metadata": {},
   "outputs": [],
   "source": [
    "ancilla = [0]\n",
    "system = list(range(1, n_qubits + 1))\n",
    "\n",
    "projector = Pi_prime\n",
    "first = qml.matrix(qml.PauliX(wires = ancilla) @ qml.QubitUnitary(projector, wires = system))\n",
    "second2 = qml.QubitUnitary(np.identity(len(projector)) - projector, wires = system)\n",
    "second = qml.matrix(qml.Identity(wires = ancilla) @ second2)\n",
    "controlled_projector_not =  np.array(first) + np.array(second)\n",
    "#print(controlled_projector_not)\n",
    "\n",
    "def block_encoding():\n",
    "    #qml.Hadamard(wires = ancilla)\n",
    "\n",
    "    \n",
    "    qml.QubitUnitary(controlled_projector_not, wires = system + ancilla)\n",
    "    #print(qml.is_unitary(qml.QubitUnitary(controlled_projector_not, wires = system + ancilla)))\n",
    "\n",
    "    #qml.Hadamard(wires = ancilla)\n",
    "\n"
   ]
  },
  {
   "cell_type": "code",
   "execution_count": 6,
   "metadata": {},
   "outputs": [],
   "source": [
    "block_encoding()"
   ]
  },
  {
   "cell_type": "code",
   "execution_count": 7,
   "metadata": {},
   "outputs": [],
   "source": [
    "dev = qml.device('default.qubit', wires=system + ancilla)\n",
    "\n",
    "@qml.qnode(dev)\n",
    "def example_circuit():\n",
    "    #block_encoding()\n",
    "    qml.BlockEncode(block, wires=system + ancilla)\n",
    "    return qml.probs(system)"
   ]
  },
  {
   "cell_type": "code",
   "execution_count": 8,
   "metadata": {},
   "outputs": [
    {
     "data": {
      "text/plain": [
       "tensor([0.00000000e+00, 0.00000000e+00, 3.13776003e-02, 0.00000000e+00,\n",
       "        9.66924820e-01, 5.65859763e-04, 5.65859763e-04, 5.65859763e-04], requires_grad=True)"
      ]
     },
     "execution_count": 8,
     "metadata": {},
     "output_type": "execute_result"
    }
   ],
   "source": [
    "example_circuit()"
   ]
  },
  {
   "cell_type": "code",
   "execution_count": 9,
   "metadata": {},
   "outputs": [
    {
     "name": "stdout",
     "output_type": "stream",
     "text": [
      "[[0.         0.         0.         0.         0.         0.35355339\n",
      "  0.         0.        ]\n",
      " [0.         0.         0.         0.         0.         0.35355339\n",
      "  0.         0.        ]\n",
      " [0.         0.         0.         0.         0.         0.35355339\n",
      "  0.         0.        ]\n",
      " [0.         0.         0.         0.         0.         0.35355339\n",
      "  0.         0.        ]\n",
      " [0.         0.         0.         0.         0.         0.35355339\n",
      "  0.         0.        ]\n",
      " [0.35355339 0.35355339 0.35355339 0.35355339 0.35355339 0.70710678\n",
      "  0.35355339 0.35355339]\n",
      " [0.         0.         0.         0.         0.         0.35355339\n",
      "  0.         0.        ]\n",
      " [0.         0.         0.         0.         0.         0.35355339\n",
      "  0.         0.        ]]\n",
      "[[0.         0.         0.         0.         0.         0.35355339\n",
      "  0.         0.        ]\n",
      " [0.         0.         0.         0.         0.         0.35355339\n",
      "  0.         0.        ]\n",
      " [0.         0.         0.         0.         0.         0.35355339\n",
      "  0.         0.        ]\n",
      " [0.         0.         0.         0.         0.         0.35355339\n",
      "  0.         0.        ]\n",
      " [0.         0.         0.         0.         0.         0.35355339\n",
      "  0.         0.        ]\n",
      " [0.         0.         0.         0.         0.         0.35355339\n",
      "  0.         0.        ]\n",
      " [0.         0.         0.         0.         0.         0.35355339\n",
      "  0.         0.        ]\n",
      " [0.         0.         0.         0.         0.         0.35355339\n",
      "  0.         0.        ]]\n"
     ]
    },
    {
     "ename": "WireError",
     "evalue": "Did not find some of the wires (Hermitian(array([[0.        , 0.        , 0.        , 0.        , 0.        ,\n        0.35355339, 0.        , 0.        ],\n       [0.        , 0.        , 0.        , 0.        , 0.        ,\n        0.35355339, 0.        , 0.        ],\n       [0.        , 0.        , 0.        , 0.        , 0.        ,\n        0.35355339, 0.        , 0.        ],\n       [0.        , 0.        , 0.        , 0.        , 0.        ,\n        0.35355339, 0.        , 0.        ],\n       [0.        , 0.        , 0.        , 0.        , 0.        ,\n        0.35355339, 0.        , 0.        ],\n       [0.35355339, 0.35355339, 0.35355339, 0.35355339, 0.35355339,\n        0.70710678, 0.35355339, 0.35355339],\n       [0.        , 0.        , 0.        , 0.        , 0.        ,\n        0.35355339, 0.        , 0.        ],\n       [0.        , 0.        , 0.        , 0.        , 0.        ,\n        0.35355339, 0.        , 0.        ]]), wires=[0, 1, 2]),) on device with wires (0, 1, 2, 3).",
     "output_type": "error",
     "traceback": [
      "\u001b[1;31m---------------------------------------------------------------------------\u001b[0m",
      "\u001b[1;31mKeyError\u001b[0m                                  Traceback (most recent call last)",
      "File \u001b[1;32mc:\\Users\\valte\\AppData\\Local\\Programs\\Python\\Python310\\lib\\site-packages\\pennylane\\devices\\default_qubit.py:242\u001b[0m, in \u001b[0;36mDefaultQubit.map_wires\u001b[1;34m(self, wires)\u001b[0m\n\u001b[0;32m    241\u001b[0m \u001b[39mtry\u001b[39;00m:\n\u001b[1;32m--> 242\u001b[0m     mapped_wires \u001b[39m=\u001b[39m [\u001b[39mself\u001b[39m\u001b[39m.\u001b[39mwire_map[w] \u001b[39mfor\u001b[39;00m w \u001b[39min\u001b[39;00m wires]\n\u001b[0;32m    243\u001b[0m \u001b[39mexcept\u001b[39;00m \u001b[39mKeyError\u001b[39;00m \u001b[39mas\u001b[39;00m e:\n",
      "File \u001b[1;32mc:\\Users\\valte\\AppData\\Local\\Programs\\Python\\Python310\\lib\\site-packages\\pennylane\\devices\\default_qubit.py:242\u001b[0m, in \u001b[0;36m<listcomp>\u001b[1;34m(.0)\u001b[0m\n\u001b[0;32m    241\u001b[0m \u001b[39mtry\u001b[39;00m:\n\u001b[1;32m--> 242\u001b[0m     mapped_wires \u001b[39m=\u001b[39m [\u001b[39mself\u001b[39;49m\u001b[39m.\u001b[39;49mwire_map[w] \u001b[39mfor\u001b[39;00m w \u001b[39min\u001b[39;00m wires]\n\u001b[0;32m    243\u001b[0m \u001b[39mexcept\u001b[39;00m \u001b[39mKeyError\u001b[39;00m \u001b[39mas\u001b[39;00m e:\n",
      "\u001b[1;31mKeyError\u001b[0m: Hermitian(array([[0.        , 0.        , 0.        , 0.        , 0.        ,\n        0.35355339, 0.        , 0.        ],\n       [0.        , 0.        , 0.        , 0.        , 0.        ,\n        0.35355339, 0.        , 0.        ],\n       [0.        , 0.        , 0.        , 0.        , 0.        ,\n        0.35355339, 0.        , 0.        ],\n       [0.        , 0.        , 0.        , 0.        , 0.        ,\n        0.35355339, 0.        , 0.        ],\n       [0.        , 0.        , 0.        , 0.        , 0.        ,\n        0.35355339, 0.        , 0.        ],\n       [0.35355339, 0.35355339, 0.35355339, 0.35355339, 0.35355339,\n        0.70710678, 0.35355339, 0.35355339],\n       [0.        , 0.        , 0.        , 0.        , 0.        ,\n        0.35355339, 0.        , 0.        ],\n       [0.        , 0.        , 0.        , 0.        , 0.        ,\n        0.35355339, 0.        , 0.        ]]), wires=[0, 1, 2])",
      "\nThe above exception was the direct cause of the following exception:\n",
      "\u001b[1;31mWireError\u001b[0m                                 Traceback (most recent call last)",
      "\u001b[1;32mc:\\Users\\valte\\OneDrive - University of Helsinki\\Desktop\\QSVT-examples\\Grover-QSVT.ipynb Cell 13\u001b[0m in \u001b[0;36m<module>\u001b[1;34m\u001b[0m\n\u001b[0;32m      <a href='vscode-notebook-cell:/c%3A/Users/valte/OneDrive%20-%20University%20of%20Helsinki/Desktop/QSVT-examples/Grover-QSVT.ipynb#X15sZmlsZQ%3D%3D?line=8'>9</a>\u001b[0m     \u001b[39mreturn\u001b[39;00m qml\u001b[39m.\u001b[39mprobs(qml\u001b[39m.\u001b[39mHermitian(M, wires\u001b[39m=\u001b[39m[\u001b[39m0\u001b[39m,\u001b[39m1\u001b[39m,\u001b[39m2\u001b[39m]))\n\u001b[0;32m     <a href='vscode-notebook-cell:/c%3A/Users/valte/OneDrive%20-%20University%20of%20Helsinki/Desktop/QSVT-examples/Grover-QSVT.ipynb#X15sZmlsZQ%3D%3D?line=9'>10</a>\u001b[0m \u001b[39mprint\u001b[39m(qml\u001b[39m.\u001b[39mmath\u001b[39m.\u001b[39mT(qml\u001b[39m.\u001b[39mmath\u001b[39m.\u001b[39mconj(np\u001b[39m.\u001b[39mouter(marked_element, uniform_superposition))))\n\u001b[1;32m---> <a href='vscode-notebook-cell:/c%3A/Users/valte/OneDrive%20-%20University%20of%20Helsinki/Desktop/QSVT-examples/Grover-QSVT.ipynb#X15sZmlsZQ%3D%3D?line=12'>13</a>\u001b[0m example_circuit2()\n",
      "File \u001b[1;32mc:\\Users\\valte\\AppData\\Local\\Programs\\Python\\Python310\\lib\\site-packages\\pennylane\\qnode.py:950\u001b[0m, in \u001b[0;36mQNode.__call__\u001b[1;34m(self, *args, **kwargs)\u001b[0m\n\u001b[0;32m    948\u001b[0m     \u001b[39mself\u001b[39m\u001b[39m.\u001b[39mexecute_kwargs\u001b[39m.\u001b[39mpop(\u001b[39m\"\u001b[39m\u001b[39mmode\u001b[39m\u001b[39m\"\u001b[39m)\n\u001b[0;32m    949\u001b[0m \u001b[39m# pylint: disable=unexpected-keyword-arg\u001b[39;00m\n\u001b[1;32m--> 950\u001b[0m res \u001b[39m=\u001b[39m qml\u001b[39m.\u001b[39mexecute(\n\u001b[0;32m    951\u001b[0m     [\u001b[39mself\u001b[39m\u001b[39m.\u001b[39mtape],\n\u001b[0;32m    952\u001b[0m     device\u001b[39m=\u001b[39m\u001b[39mself\u001b[39m\u001b[39m.\u001b[39mdevice,\n\u001b[0;32m    953\u001b[0m     gradient_fn\u001b[39m=\u001b[39m\u001b[39mself\u001b[39m\u001b[39m.\u001b[39mgradient_fn,\n\u001b[0;32m    954\u001b[0m     interface\u001b[39m=\u001b[39m\u001b[39mself\u001b[39m\u001b[39m.\u001b[39minterface,\n\u001b[0;32m    955\u001b[0m     gradient_kwargs\u001b[39m=\u001b[39m\u001b[39mself\u001b[39m\u001b[39m.\u001b[39mgradient_kwargs,\n\u001b[0;32m    956\u001b[0m     override_shots\u001b[39m=\u001b[39moverride_shots,\n\u001b[0;32m    957\u001b[0m     \u001b[39m*\u001b[39m\u001b[39m*\u001b[39m\u001b[39mself\u001b[39m\u001b[39m.\u001b[39mexecute_kwargs,\n\u001b[0;32m    958\u001b[0m )\n\u001b[0;32m    960\u001b[0m res \u001b[39m=\u001b[39m res[\u001b[39m0\u001b[39m]\n\u001b[0;32m    962\u001b[0m \u001b[39m# convert result to the interface in case the qfunc has no parameters\u001b[39;00m\n",
      "File \u001b[1;32mc:\\Users\\valte\\AppData\\Local\\Programs\\Python\\Python310\\lib\\site-packages\\pennylane\\interfaces\\execution.py:511\u001b[0m, in \u001b[0;36mexecute\u001b[1;34m(tapes, device, gradient_fn, interface, grad_on_execution, gradient_kwargs, cache, cachesize, max_diff, override_shots, expand_fn, max_expansion, device_batch_transform)\u001b[0m\n\u001b[0;32m    503\u001b[0m     \u001b[39m# use qml.interfaces so that mocker can spy on it during testing\u001b[39;00m\n\u001b[0;32m    504\u001b[0m     cached_execute_fn \u001b[39m=\u001b[39m qml\u001b[39m.\u001b[39minterfaces\u001b[39m.\u001b[39mcache_execute(\n\u001b[0;32m    505\u001b[0m         batch_execute,\n\u001b[0;32m    506\u001b[0m         cache,\n\u001b[1;32m   (...)\u001b[0m\n\u001b[0;32m    509\u001b[0m         pass_kwargs\u001b[39m=\u001b[39mnew_device_interface,\n\u001b[0;32m    510\u001b[0m     )\n\u001b[1;32m--> 511\u001b[0m     results \u001b[39m=\u001b[39m cached_execute_fn(tapes, execution_config\u001b[39m=\u001b[39;49mconfig)\n\u001b[0;32m    512\u001b[0m     \u001b[39mreturn\u001b[39;00m batch_fn(results)\n\u001b[0;32m    514\u001b[0m \u001b[39m# the default execution function is batch_execute\u001b[39;00m\n\u001b[0;32m    515\u001b[0m \u001b[39m# use qml.interfaces so that mocker can spy on it during testing\u001b[39;00m\n",
      "File \u001b[1;32mc:\\Users\\valte\\AppData\\Local\\Programs\\Python\\Python310\\lib\\site-packages\\pennylane\\interfaces\\execution.py:287\u001b[0m, in \u001b[0;36mcache_execute.<locals>.wrapper\u001b[1;34m(tapes, **kwargs)\u001b[0m\n\u001b[0;32m    282\u001b[0m         \u001b[39mreturn\u001b[39;00m (res, []) \u001b[39mif\u001b[39;00m return_tuple \u001b[39melse\u001b[39;00m res\n\u001b[0;32m    284\u001b[0m \u001b[39melse\u001b[39;00m:\n\u001b[0;32m    285\u001b[0m     \u001b[39m# execute all unique tapes that do not exist in the cache\u001b[39;00m\n\u001b[0;32m    286\u001b[0m     \u001b[39m# convert to list as new device interface returns a tuple\u001b[39;00m\n\u001b[1;32m--> 287\u001b[0m     res \u001b[39m=\u001b[39m \u001b[39mlist\u001b[39m(fn(execution_tapes\u001b[39m.\u001b[39mvalues(), \u001b[39m*\u001b[39m\u001b[39m*\u001b[39mkwargs))\n\u001b[0;32m    289\u001b[0m final_res \u001b[39m=\u001b[39m []\n\u001b[0;32m    291\u001b[0m \u001b[39mfor\u001b[39;00m i, tape \u001b[39min\u001b[39;00m \u001b[39menumerate\u001b[39m(tapes):\n",
      "File \u001b[1;32mc:\\Users\\valte\\AppData\\Local\\Programs\\Python\\Python310\\lib\\site-packages\\pennylane\\interfaces\\execution.py:210\u001b[0m, in \u001b[0;36mcache_execute.<locals>.fn\u001b[1;34m(tapes, **kwargs)\u001b[0m\n\u001b[0;32m    208\u001b[0m \u001b[39mdef\u001b[39;00m \u001b[39mfn\u001b[39m(tapes: Sequence[QuantumTape], \u001b[39m*\u001b[39m\u001b[39m*\u001b[39mkwargs):  \u001b[39m# pylint: disable=function-redefined\u001b[39;00m\n\u001b[0;32m    209\u001b[0m     tapes \u001b[39m=\u001b[39m [expand_fn(tape) \u001b[39mfor\u001b[39;00m tape \u001b[39min\u001b[39;00m tapes]\n\u001b[1;32m--> 210\u001b[0m     \u001b[39mreturn\u001b[39;00m original_fn(tapes, \u001b[39m*\u001b[39m\u001b[39m*\u001b[39mkwargs)\n",
      "File \u001b[1;32mc:\\Users\\valte\\AppData\\Local\\Programs\\Python\\Python310\\lib\\contextlib.py:79\u001b[0m, in \u001b[0;36mContextDecorator.__call__.<locals>.inner\u001b[1;34m(*args, **kwds)\u001b[0m\n\u001b[0;32m     76\u001b[0m \u001b[39m@wraps\u001b[39m(func)\n\u001b[0;32m     77\u001b[0m \u001b[39mdef\u001b[39;00m \u001b[39minner\u001b[39m(\u001b[39m*\u001b[39margs, \u001b[39m*\u001b[39m\u001b[39m*\u001b[39mkwds):\n\u001b[0;32m     78\u001b[0m     \u001b[39mwith\u001b[39;00m \u001b[39mself\u001b[39m\u001b[39m.\u001b[39m_recreate_cm():\n\u001b[1;32m---> 79\u001b[0m         \u001b[39mreturn\u001b[39;00m func(\u001b[39m*\u001b[39margs, \u001b[39m*\u001b[39m\u001b[39m*\u001b[39mkwds)\n",
      "File \u001b[1;32mc:\\Users\\valte\\AppData\\Local\\Programs\\Python\\Python310\\lib\\site-packages\\pennylane\\_qubit_device.py:603\u001b[0m, in \u001b[0;36mQubitDevice.batch_execute\u001b[1;34m(self, circuits)\u001b[0m\n\u001b[0;32m    598\u001b[0m \u001b[39mfor\u001b[39;00m circuit \u001b[39min\u001b[39;00m circuits:\n\u001b[0;32m    599\u001b[0m     \u001b[39m# we need to reset the device here, else it will\u001b[39;00m\n\u001b[0;32m    600\u001b[0m     \u001b[39m# not start the next computation in the zero state\u001b[39;00m\n\u001b[0;32m    601\u001b[0m     \u001b[39mself\u001b[39m\u001b[39m.\u001b[39mreset()\n\u001b[1;32m--> 603\u001b[0m     res \u001b[39m=\u001b[39m \u001b[39mself\u001b[39;49m\u001b[39m.\u001b[39;49mexecute(circuit)\n\u001b[0;32m    604\u001b[0m     results\u001b[39m.\u001b[39mappend(res)\n\u001b[0;32m    606\u001b[0m \u001b[39mif\u001b[39;00m \u001b[39mself\u001b[39m\u001b[39m.\u001b[39mtracker\u001b[39m.\u001b[39mactive:\n",
      "File \u001b[1;32mc:\\Users\\valte\\AppData\\Local\\Programs\\Python\\Python310\\lib\\site-packages\\pennylane\\_qubit_device.py:331\u001b[0m, in \u001b[0;36mQubitDevice.execute\u001b[1;34m(self, circuit, **kwargs)\u001b[0m\n\u001b[0;32m    328\u001b[0m     results \u001b[39m=\u001b[39m \u001b[39mself\u001b[39m\u001b[39m.\u001b[39mshot_vec_statistics(circuit)\n\u001b[0;32m    330\u001b[0m \u001b[39melse\u001b[39;00m:\n\u001b[1;32m--> 331\u001b[0m     results \u001b[39m=\u001b[39m \u001b[39mself\u001b[39;49m\u001b[39m.\u001b[39;49mstatistics(circuit)\n\u001b[0;32m    332\u001b[0m     single_measurement \u001b[39m=\u001b[39m \u001b[39mlen\u001b[39m(circuit\u001b[39m.\u001b[39mmeasurements) \u001b[39m==\u001b[39m \u001b[39m1\u001b[39m\n\u001b[0;32m    334\u001b[0m     results \u001b[39m=\u001b[39m results[\u001b[39m0\u001b[39m] \u001b[39mif\u001b[39;00m single_measurement \u001b[39melse\u001b[39;00m \u001b[39mtuple\u001b[39m(results)\n",
      "File \u001b[1;32mc:\\Users\\valte\\AppData\\Local\\Programs\\Python\\Python310\\lib\\site-packages\\pennylane\\_qubit_device.py:986\u001b[0m, in \u001b[0;36mQubitDevice.statistics\u001b[1;34m(self, circuit, shot_range, bin_size)\u001b[0m\n\u001b[0;32m    983\u001b[0m     result \u001b[39m=\u001b[39m \u001b[39mself\u001b[39m\u001b[39m.\u001b[39msample(obs, shot_range\u001b[39m=\u001b[39mshot_range, bin_size\u001b[39m=\u001b[39mbin_size, counts\u001b[39m=\u001b[39m\u001b[39mTrue\u001b[39;00m)\n\u001b[0;32m    985\u001b[0m \u001b[39melif\u001b[39;00m \u001b[39misinstance\u001b[39m(m, ProbabilityMP):\n\u001b[1;32m--> 986\u001b[0m     result \u001b[39m=\u001b[39m \u001b[39mself\u001b[39;49m\u001b[39m.\u001b[39;49mprobability(wires\u001b[39m=\u001b[39;49mobs\u001b[39m.\u001b[39;49mwires, shot_range\u001b[39m=\u001b[39;49mshot_range, bin_size\u001b[39m=\u001b[39;49mbin_size)\n\u001b[0;32m    988\u001b[0m \u001b[39melif\u001b[39;00m \u001b[39misinstance\u001b[39m(m, StateMP):\n\u001b[0;32m    989\u001b[0m     \u001b[39mif\u001b[39;00m \u001b[39mlen\u001b[39m(measurements) \u001b[39m>\u001b[39m \u001b[39m1\u001b[39m:\n",
      "File \u001b[1;32mc:\\Users\\valte\\AppData\\Local\\Programs\\Python\\Python310\\lib\\site-packages\\pennylane\\_qubit_device.py:1566\u001b[0m, in \u001b[0;36mQubitDevice.probability\u001b[1;34m(self, wires, shot_range, bin_size)\u001b[0m\n\u001b[0;32m   1564\u001b[0m wires \u001b[39m=\u001b[39m wires \u001b[39mor\u001b[39;00m \u001b[39mself\u001b[39m\u001b[39m.\u001b[39mwires\n\u001b[0;32m   1565\u001b[0m \u001b[39mif\u001b[39;00m \u001b[39mself\u001b[39m\u001b[39m.\u001b[39mshots \u001b[39mis\u001b[39;00m \u001b[39mNone\u001b[39;00m:\n\u001b[1;32m-> 1566\u001b[0m     \u001b[39mreturn\u001b[39;00m \u001b[39mself\u001b[39;49m\u001b[39m.\u001b[39;49manalytic_probability(wires\u001b[39m=\u001b[39;49mwires)\n\u001b[0;32m   1568\u001b[0m \u001b[39mreturn\u001b[39;00m \u001b[39mself\u001b[39m\u001b[39m.\u001b[39mestimate_probability(wires\u001b[39m=\u001b[39mwires, shot_range\u001b[39m=\u001b[39mshot_range, bin_size\u001b[39m=\u001b[39mbin_size)\n",
      "File \u001b[1;32mc:\\Users\\valte\\AppData\\Local\\Programs\\Python\\Python310\\lib\\site-packages\\pennylane\\devices\\default_qubit.py:947\u001b[0m, in \u001b[0;36mDefaultQubit.analytic_probability\u001b[1;34m(self, wires)\u001b[0m\n\u001b[0;32m    945\u001b[0m real_state \u001b[39m=\u001b[39m \u001b[39mself\u001b[39m\u001b[39m.\u001b[39m_real(flat_state)\n\u001b[0;32m    946\u001b[0m imag_state \u001b[39m=\u001b[39m \u001b[39mself\u001b[39m\u001b[39m.\u001b[39m_imag(flat_state)\n\u001b[1;32m--> 947\u001b[0m \u001b[39mreturn\u001b[39;00m \u001b[39mself\u001b[39;49m\u001b[39m.\u001b[39;49mmarginal_prob(real_state\u001b[39m*\u001b[39;49m\u001b[39m*\u001b[39;49m\u001b[39m2\u001b[39;49m \u001b[39m+\u001b[39;49m imag_state\u001b[39m*\u001b[39;49m\u001b[39m*\u001b[39;49m\u001b[39m2\u001b[39;49m, wires)\n",
      "File \u001b[1;32mc:\\Users\\valte\\AppData\\Local\\Programs\\Python\\Python310\\lib\\site-packages\\pennylane\\_qubit_device.py:1624\u001b[0m, in \u001b[0;36mQubitDevice.marginal_prob\u001b[1;34m(self, prob, wires)\u001b[0m\n\u001b[0;32m   1621\u001b[0m inactive_wires \u001b[39m=\u001b[39m Wires\u001b[39m.\u001b[39munique_wires([\u001b[39mself\u001b[39m\u001b[39m.\u001b[39mwires, wires])\n\u001b[0;32m   1623\u001b[0m \u001b[39m# translate to wire labels used by device\u001b[39;00m\n\u001b[1;32m-> 1624\u001b[0m device_wires \u001b[39m=\u001b[39m \u001b[39mself\u001b[39;49m\u001b[39m.\u001b[39;49mmap_wires(wires)\n\u001b[0;32m   1625\u001b[0m inactive_device_wires \u001b[39m=\u001b[39m \u001b[39mself\u001b[39m\u001b[39m.\u001b[39mmap_wires(inactive_wires)\n\u001b[0;32m   1627\u001b[0m \u001b[39m# hotfix to catch when default.qubit uses this method\u001b[39;00m\n\u001b[0;32m   1628\u001b[0m \u001b[39m# since then device_wires is a list\u001b[39;00m\n",
      "File \u001b[1;32mc:\\Users\\valte\\AppData\\Local\\Programs\\Python\\Python310\\lib\\site-packages\\pennylane\\devices\\default_qubit.py:244\u001b[0m, in \u001b[0;36mDefaultQubit.map_wires\u001b[1;34m(self, wires)\u001b[0m\n\u001b[0;32m    242\u001b[0m     mapped_wires \u001b[39m=\u001b[39m [\u001b[39mself\u001b[39m\u001b[39m.\u001b[39mwire_map[w] \u001b[39mfor\u001b[39;00m w \u001b[39min\u001b[39;00m wires]\n\u001b[0;32m    243\u001b[0m \u001b[39mexcept\u001b[39;00m \u001b[39mKeyError\u001b[39;00m \u001b[39mas\u001b[39;00m e:\n\u001b[1;32m--> 244\u001b[0m     \u001b[39mraise\u001b[39;00m WireError(\n\u001b[0;32m    245\u001b[0m         \u001b[39mf\u001b[39m\u001b[39m\"\u001b[39m\u001b[39mDid not find some of the wires \u001b[39m\u001b[39m{\u001b[39;00mwires\u001b[39m.\u001b[39mlabels\u001b[39m}\u001b[39;00m\u001b[39m on device with wires \u001b[39m\u001b[39m{\u001b[39;00m\u001b[39mself\u001b[39m\u001b[39m.\u001b[39mwires\u001b[39m.\u001b[39mlabels\u001b[39m}\u001b[39;00m\u001b[39m.\u001b[39m\u001b[39m\"\u001b[39m\n\u001b[0;32m    246\u001b[0m     ) \u001b[39mfrom\u001b[39;00m \u001b[39me\u001b[39;00m\n\u001b[0;32m    248\u001b[0m \u001b[39mreturn\u001b[39;00m mapped_wires\n",
      "\u001b[1;31mWireError\u001b[0m: Did not find some of the wires (Hermitian(array([[0.        , 0.        , 0.        , 0.        , 0.        ,\n        0.35355339, 0.        , 0.        ],\n       [0.        , 0.        , 0.        , 0.        , 0.        ,\n        0.35355339, 0.        , 0.        ],\n       [0.        , 0.        , 0.        , 0.        , 0.        ,\n        0.35355339, 0.        , 0.        ],\n       [0.        , 0.        , 0.        , 0.        , 0.        ,\n        0.35355339, 0.        , 0.        ],\n       [0.        , 0.        , 0.        , 0.        , 0.        ,\n        0.35355339, 0.        , 0.        ],\n       [0.35355339, 0.35355339, 0.35355339, 0.35355339, 0.35355339,\n        0.70710678, 0.35355339, 0.35355339],\n       [0.        , 0.        , 0.        , 0.        , 0.        ,\n        0.35355339, 0.        , 0.        ],\n       [0.        , 0.        , 0.        , 0.        , 0.        ,\n        0.35355339, 0.        , 0.        ]]), wires=[0, 1, 2]),) on device with wires (0, 1, 2, 3)."
     ]
    }
   ],
   "source": [
    "dev = qml.device('default.qubit', wires=[0,1,2,3])\n",
    "\n",
    "M = qml.math.T(qml.math.conj(np.outer(marked_element, uniform_superposition))) + np.outer(marked_element, uniform_superposition)\n",
    "print(M)\n",
    "\n",
    "@qml.qnode(dev)\n",
    "def example_circuit2():\n",
    "    qml.BlockEncode(block, wires=[0,1,2,3])\n",
    "    return qml.probs(qml.Hermitian(M, wires=[0,1,2]))\n",
    "print(qml.math.T(qml.math.conj(np.outer(marked_element, uniform_superposition))))\n",
    "\n",
    "\n",
    "example_circuit2()"
   ]
  }
 ],
 "metadata": {
  "kernelspec": {
   "display_name": "Python 3",
   "language": "python",
   "name": "python3"
  },
  "language_info": {
   "codemirror_mode": {
    "name": "ipython",
    "version": 3
   },
   "file_extension": ".py",
   "mimetype": "text/x-python",
   "name": "python",
   "nbconvert_exporter": "python",
   "pygments_lexer": "ipython3",
   "version": "3.10.8"
  },
  "orig_nbformat": 4
 },
 "nbformat": 4,
 "nbformat_minor": 2
}
